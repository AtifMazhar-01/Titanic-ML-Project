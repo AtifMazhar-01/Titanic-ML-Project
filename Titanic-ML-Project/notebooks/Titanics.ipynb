{
 "cells": [
  {
   "cell_type": "code",
   "execution_count": 1,
   "id": "489280c1",
   "metadata": {},
   "outputs": [],
   "source": [
    "import pandas as pd"
   ]
  },
  {
   "cell_type": "markdown",
   "id": "ac584bcf",
   "metadata": {},
   "source": [
    "## Load The Data"
   ]
  },
  {
   "cell_type": "code",
   "execution_count": 2,
   "id": "d7302d70",
   "metadata": {
    "scrolled": true
   },
   "outputs": [
    {
     "data": {
      "text/html": [
       "<div>\n",
       "<style scoped>\n",
       "    .dataframe tbody tr th:only-of-type {\n",
       "        vertical-align: middle;\n",
       "    }\n",
       "\n",
       "    .dataframe tbody tr th {\n",
       "        vertical-align: top;\n",
       "    }\n",
       "\n",
       "    .dataframe thead th {\n",
       "        text-align: right;\n",
       "    }\n",
       "</style>\n",
       "<table border=\"1\" class=\"dataframe\">\n",
       "  <thead>\n",
       "    <tr style=\"text-align: right;\">\n",
       "      <th></th>\n",
       "      <th>PassengerId</th>\n",
       "      <th>Survived</th>\n",
       "      <th>Pclass</th>\n",
       "      <th>Name</th>\n",
       "      <th>Sex</th>\n",
       "      <th>Age</th>\n",
       "      <th>SibSp</th>\n",
       "      <th>Parch</th>\n",
       "      <th>Ticket</th>\n",
       "      <th>Fare</th>\n",
       "      <th>Cabin</th>\n",
       "      <th>Embarked</th>\n",
       "    </tr>\n",
       "  </thead>\n",
       "  <tbody>\n",
       "    <tr>\n",
       "      <th>0</th>\n",
       "      <td>1</td>\n",
       "      <td>0</td>\n",
       "      <td>3</td>\n",
       "      <td>Braund, Mr. Owen Harris</td>\n",
       "      <td>male</td>\n",
       "      <td>22.0</td>\n",
       "      <td>1</td>\n",
       "      <td>0</td>\n",
       "      <td>A/5 21171</td>\n",
       "      <td>7.2500</td>\n",
       "      <td>NaN</td>\n",
       "      <td>S</td>\n",
       "    </tr>\n",
       "    <tr>\n",
       "      <th>1</th>\n",
       "      <td>2</td>\n",
       "      <td>1</td>\n",
       "      <td>1</td>\n",
       "      <td>Cumings, Mrs. John Bradley (Florence Briggs Th...</td>\n",
       "      <td>female</td>\n",
       "      <td>38.0</td>\n",
       "      <td>1</td>\n",
       "      <td>0</td>\n",
       "      <td>PC 17599</td>\n",
       "      <td>71.2833</td>\n",
       "      <td>C85</td>\n",
       "      <td>C</td>\n",
       "    </tr>\n",
       "    <tr>\n",
       "      <th>2</th>\n",
       "      <td>3</td>\n",
       "      <td>1</td>\n",
       "      <td>3</td>\n",
       "      <td>Heikkinen, Miss. Laina</td>\n",
       "      <td>female</td>\n",
       "      <td>26.0</td>\n",
       "      <td>0</td>\n",
       "      <td>0</td>\n",
       "      <td>STON/O2. 3101282</td>\n",
       "      <td>7.9250</td>\n",
       "      <td>NaN</td>\n",
       "      <td>S</td>\n",
       "    </tr>\n",
       "    <tr>\n",
       "      <th>3</th>\n",
       "      <td>4</td>\n",
       "      <td>1</td>\n",
       "      <td>1</td>\n",
       "      <td>Futrelle, Mrs. Jacques Heath (Lily May Peel)</td>\n",
       "      <td>female</td>\n",
       "      <td>35.0</td>\n",
       "      <td>1</td>\n",
       "      <td>0</td>\n",
       "      <td>113803</td>\n",
       "      <td>53.1000</td>\n",
       "      <td>C123</td>\n",
       "      <td>S</td>\n",
       "    </tr>\n",
       "    <tr>\n",
       "      <th>4</th>\n",
       "      <td>5</td>\n",
       "      <td>0</td>\n",
       "      <td>3</td>\n",
       "      <td>Allen, Mr. William Henry</td>\n",
       "      <td>male</td>\n",
       "      <td>35.0</td>\n",
       "      <td>0</td>\n",
       "      <td>0</td>\n",
       "      <td>373450</td>\n",
       "      <td>8.0500</td>\n",
       "      <td>NaN</td>\n",
       "      <td>S</td>\n",
       "    </tr>\n",
       "    <tr>\n",
       "      <th>...</th>\n",
       "      <td>...</td>\n",
       "      <td>...</td>\n",
       "      <td>...</td>\n",
       "      <td>...</td>\n",
       "      <td>...</td>\n",
       "      <td>...</td>\n",
       "      <td>...</td>\n",
       "      <td>...</td>\n",
       "      <td>...</td>\n",
       "      <td>...</td>\n",
       "      <td>...</td>\n",
       "      <td>...</td>\n",
       "    </tr>\n",
       "    <tr>\n",
       "      <th>886</th>\n",
       "      <td>887</td>\n",
       "      <td>0</td>\n",
       "      <td>2</td>\n",
       "      <td>Montvila, Rev. Juozas</td>\n",
       "      <td>male</td>\n",
       "      <td>27.0</td>\n",
       "      <td>0</td>\n",
       "      <td>0</td>\n",
       "      <td>211536</td>\n",
       "      <td>13.0000</td>\n",
       "      <td>NaN</td>\n",
       "      <td>S</td>\n",
       "    </tr>\n",
       "    <tr>\n",
       "      <th>887</th>\n",
       "      <td>888</td>\n",
       "      <td>1</td>\n",
       "      <td>1</td>\n",
       "      <td>Graham, Miss. Margaret Edith</td>\n",
       "      <td>female</td>\n",
       "      <td>19.0</td>\n",
       "      <td>0</td>\n",
       "      <td>0</td>\n",
       "      <td>112053</td>\n",
       "      <td>30.0000</td>\n",
       "      <td>B42</td>\n",
       "      <td>S</td>\n",
       "    </tr>\n",
       "    <tr>\n",
       "      <th>888</th>\n",
       "      <td>889</td>\n",
       "      <td>0</td>\n",
       "      <td>3</td>\n",
       "      <td>Johnston, Miss. Catherine Helen \"Carrie\"</td>\n",
       "      <td>female</td>\n",
       "      <td>NaN</td>\n",
       "      <td>1</td>\n",
       "      <td>2</td>\n",
       "      <td>W./C. 6607</td>\n",
       "      <td>23.4500</td>\n",
       "      <td>NaN</td>\n",
       "      <td>S</td>\n",
       "    </tr>\n",
       "    <tr>\n",
       "      <th>889</th>\n",
       "      <td>890</td>\n",
       "      <td>1</td>\n",
       "      <td>1</td>\n",
       "      <td>Behr, Mr. Karl Howell</td>\n",
       "      <td>male</td>\n",
       "      <td>26.0</td>\n",
       "      <td>0</td>\n",
       "      <td>0</td>\n",
       "      <td>111369</td>\n",
       "      <td>30.0000</td>\n",
       "      <td>C148</td>\n",
       "      <td>C</td>\n",
       "    </tr>\n",
       "    <tr>\n",
       "      <th>890</th>\n",
       "      <td>891</td>\n",
       "      <td>0</td>\n",
       "      <td>3</td>\n",
       "      <td>Dooley, Mr. Patrick</td>\n",
       "      <td>male</td>\n",
       "      <td>32.0</td>\n",
       "      <td>0</td>\n",
       "      <td>0</td>\n",
       "      <td>370376</td>\n",
       "      <td>7.7500</td>\n",
       "      <td>NaN</td>\n",
       "      <td>Q</td>\n",
       "    </tr>\n",
       "  </tbody>\n",
       "</table>\n",
       "<p>891 rows × 12 columns</p>\n",
       "</div>"
      ],
      "text/plain": [
       "     PassengerId  Survived  Pclass  \\\n",
       "0              1         0       3   \n",
       "1              2         1       1   \n",
       "2              3         1       3   \n",
       "3              4         1       1   \n",
       "4              5         0       3   \n",
       "..           ...       ...     ...   \n",
       "886          887         0       2   \n",
       "887          888         1       1   \n",
       "888          889         0       3   \n",
       "889          890         1       1   \n",
       "890          891         0       3   \n",
       "\n",
       "                                                  Name     Sex   Age  SibSp  \\\n",
       "0                              Braund, Mr. Owen Harris    male  22.0      1   \n",
       "1    Cumings, Mrs. John Bradley (Florence Briggs Th...  female  38.0      1   \n",
       "2                               Heikkinen, Miss. Laina  female  26.0      0   \n",
       "3         Futrelle, Mrs. Jacques Heath (Lily May Peel)  female  35.0      1   \n",
       "4                             Allen, Mr. William Henry    male  35.0      0   \n",
       "..                                                 ...     ...   ...    ...   \n",
       "886                              Montvila, Rev. Juozas    male  27.0      0   \n",
       "887                       Graham, Miss. Margaret Edith  female  19.0      0   \n",
       "888           Johnston, Miss. Catherine Helen \"Carrie\"  female   NaN      1   \n",
       "889                              Behr, Mr. Karl Howell    male  26.0      0   \n",
       "890                                Dooley, Mr. Patrick    male  32.0      0   \n",
       "\n",
       "     Parch            Ticket     Fare Cabin Embarked  \n",
       "0        0         A/5 21171   7.2500   NaN        S  \n",
       "1        0          PC 17599  71.2833   C85        C  \n",
       "2        0  STON/O2. 3101282   7.9250   NaN        S  \n",
       "3        0            113803  53.1000  C123        S  \n",
       "4        0            373450   8.0500   NaN        S  \n",
       "..     ...               ...      ...   ...      ...  \n",
       "886      0            211536  13.0000   NaN        S  \n",
       "887      0            112053  30.0000   B42        S  \n",
       "888      2        W./C. 6607  23.4500   NaN        S  \n",
       "889      0            111369  30.0000  C148        C  \n",
       "890      0            370376   7.7500   NaN        Q  \n",
       "\n",
       "[891 rows x 12 columns]"
      ]
     },
     "execution_count": 2,
     "metadata": {},
     "output_type": "execute_result"
    }
   ],
   "source": [
    "train_data = pd.read_csv(\"train.csv\")\n",
    "train_data"
   ]
  },
  {
   "cell_type": "markdown",
   "id": "f47a0d3b",
   "metadata": {},
   "source": [
    "## Data Understanding"
   ]
  },
  {
   "cell_type": "code",
   "execution_count": 3,
   "id": "a195f5de",
   "metadata": {},
   "outputs": [
    {
     "data": {
      "text/html": [
       "<div>\n",
       "<style scoped>\n",
       "    .dataframe tbody tr th:only-of-type {\n",
       "        vertical-align: middle;\n",
       "    }\n",
       "\n",
       "    .dataframe tbody tr th {\n",
       "        vertical-align: top;\n",
       "    }\n",
       "\n",
       "    .dataframe thead th {\n",
       "        text-align: right;\n",
       "    }\n",
       "</style>\n",
       "<table border=\"1\" class=\"dataframe\">\n",
       "  <thead>\n",
       "    <tr style=\"text-align: right;\">\n",
       "      <th></th>\n",
       "      <th>PassengerId</th>\n",
       "      <th>Survived</th>\n",
       "      <th>Pclass</th>\n",
       "      <th>Name</th>\n",
       "      <th>Sex</th>\n",
       "      <th>Age</th>\n",
       "      <th>SibSp</th>\n",
       "      <th>Parch</th>\n",
       "      <th>Ticket</th>\n",
       "      <th>Fare</th>\n",
       "      <th>Cabin</th>\n",
       "      <th>Embarked</th>\n",
       "    </tr>\n",
       "  </thead>\n",
       "  <tbody>\n",
       "    <tr>\n",
       "      <th>0</th>\n",
       "      <td>1</td>\n",
       "      <td>0</td>\n",
       "      <td>3</td>\n",
       "      <td>Braund, Mr. Owen Harris</td>\n",
       "      <td>male</td>\n",
       "      <td>22.0</td>\n",
       "      <td>1</td>\n",
       "      <td>0</td>\n",
       "      <td>A/5 21171</td>\n",
       "      <td>7.2500</td>\n",
       "      <td>NaN</td>\n",
       "      <td>S</td>\n",
       "    </tr>\n",
       "    <tr>\n",
       "      <th>1</th>\n",
       "      <td>2</td>\n",
       "      <td>1</td>\n",
       "      <td>1</td>\n",
       "      <td>Cumings, Mrs. John Bradley (Florence Briggs Th...</td>\n",
       "      <td>female</td>\n",
       "      <td>38.0</td>\n",
       "      <td>1</td>\n",
       "      <td>0</td>\n",
       "      <td>PC 17599</td>\n",
       "      <td>71.2833</td>\n",
       "      <td>C85</td>\n",
       "      <td>C</td>\n",
       "    </tr>\n",
       "    <tr>\n",
       "      <th>2</th>\n",
       "      <td>3</td>\n",
       "      <td>1</td>\n",
       "      <td>3</td>\n",
       "      <td>Heikkinen, Miss. Laina</td>\n",
       "      <td>female</td>\n",
       "      <td>26.0</td>\n",
       "      <td>0</td>\n",
       "      <td>0</td>\n",
       "      <td>STON/O2. 3101282</td>\n",
       "      <td>7.9250</td>\n",
       "      <td>NaN</td>\n",
       "      <td>S</td>\n",
       "    </tr>\n",
       "    <tr>\n",
       "      <th>3</th>\n",
       "      <td>4</td>\n",
       "      <td>1</td>\n",
       "      <td>1</td>\n",
       "      <td>Futrelle, Mrs. Jacques Heath (Lily May Peel)</td>\n",
       "      <td>female</td>\n",
       "      <td>35.0</td>\n",
       "      <td>1</td>\n",
       "      <td>0</td>\n",
       "      <td>113803</td>\n",
       "      <td>53.1000</td>\n",
       "      <td>C123</td>\n",
       "      <td>S</td>\n",
       "    </tr>\n",
       "    <tr>\n",
       "      <th>4</th>\n",
       "      <td>5</td>\n",
       "      <td>0</td>\n",
       "      <td>3</td>\n",
       "      <td>Allen, Mr. William Henry</td>\n",
       "      <td>male</td>\n",
       "      <td>35.0</td>\n",
       "      <td>0</td>\n",
       "      <td>0</td>\n",
       "      <td>373450</td>\n",
       "      <td>8.0500</td>\n",
       "      <td>NaN</td>\n",
       "      <td>S</td>\n",
       "    </tr>\n",
       "  </tbody>\n",
       "</table>\n",
       "</div>"
      ],
      "text/plain": [
       "   PassengerId  Survived  Pclass  \\\n",
       "0            1         0       3   \n",
       "1            2         1       1   \n",
       "2            3         1       3   \n",
       "3            4         1       1   \n",
       "4            5         0       3   \n",
       "\n",
       "                                                Name     Sex   Age  SibSp  \\\n",
       "0                            Braund, Mr. Owen Harris    male  22.0      1   \n",
       "1  Cumings, Mrs. John Bradley (Florence Briggs Th...  female  38.0      1   \n",
       "2                             Heikkinen, Miss. Laina  female  26.0      0   \n",
       "3       Futrelle, Mrs. Jacques Heath (Lily May Peel)  female  35.0      1   \n",
       "4                           Allen, Mr. William Henry    male  35.0      0   \n",
       "\n",
       "   Parch            Ticket     Fare Cabin Embarked  \n",
       "0      0         A/5 21171   7.2500   NaN        S  \n",
       "1      0          PC 17599  71.2833   C85        C  \n",
       "2      0  STON/O2. 3101282   7.9250   NaN        S  \n",
       "3      0            113803  53.1000  C123        S  \n",
       "4      0            373450   8.0500   NaN        S  "
      ]
     },
     "execution_count": 3,
     "metadata": {},
     "output_type": "execute_result"
    }
   ],
   "source": [
    "## lets explore the data sets\n",
    "\n",
    "train_data.head()"
   ]
  },
  {
   "cell_type": "code",
   "execution_count": 4,
   "id": "9b55e799",
   "metadata": {},
   "outputs": [
    {
     "data": {
      "text/html": [
       "<div>\n",
       "<style scoped>\n",
       "    .dataframe tbody tr th:only-of-type {\n",
       "        vertical-align: middle;\n",
       "    }\n",
       "\n",
       "    .dataframe tbody tr th {\n",
       "        vertical-align: top;\n",
       "    }\n",
       "\n",
       "    .dataframe thead th {\n",
       "        text-align: right;\n",
       "    }\n",
       "</style>\n",
       "<table border=\"1\" class=\"dataframe\">\n",
       "  <thead>\n",
       "    <tr style=\"text-align: right;\">\n",
       "      <th></th>\n",
       "      <th>PassengerId</th>\n",
       "      <th>Survived</th>\n",
       "      <th>Pclass</th>\n",
       "      <th>Age</th>\n",
       "      <th>SibSp</th>\n",
       "      <th>Parch</th>\n",
       "      <th>Fare</th>\n",
       "    </tr>\n",
       "  </thead>\n",
       "  <tbody>\n",
       "    <tr>\n",
       "      <th>count</th>\n",
       "      <td>891.000000</td>\n",
       "      <td>891.000000</td>\n",
       "      <td>891.000000</td>\n",
       "      <td>714.000000</td>\n",
       "      <td>891.000000</td>\n",
       "      <td>891.000000</td>\n",
       "      <td>891.000000</td>\n",
       "    </tr>\n",
       "    <tr>\n",
       "      <th>mean</th>\n",
       "      <td>446.000000</td>\n",
       "      <td>0.383838</td>\n",
       "      <td>2.308642</td>\n",
       "      <td>29.699118</td>\n",
       "      <td>0.523008</td>\n",
       "      <td>0.381594</td>\n",
       "      <td>32.204208</td>\n",
       "    </tr>\n",
       "    <tr>\n",
       "      <th>std</th>\n",
       "      <td>257.353842</td>\n",
       "      <td>0.486592</td>\n",
       "      <td>0.836071</td>\n",
       "      <td>14.526497</td>\n",
       "      <td>1.102743</td>\n",
       "      <td>0.806057</td>\n",
       "      <td>49.693429</td>\n",
       "    </tr>\n",
       "    <tr>\n",
       "      <th>min</th>\n",
       "      <td>1.000000</td>\n",
       "      <td>0.000000</td>\n",
       "      <td>1.000000</td>\n",
       "      <td>0.420000</td>\n",
       "      <td>0.000000</td>\n",
       "      <td>0.000000</td>\n",
       "      <td>0.000000</td>\n",
       "    </tr>\n",
       "    <tr>\n",
       "      <th>25%</th>\n",
       "      <td>223.500000</td>\n",
       "      <td>0.000000</td>\n",
       "      <td>2.000000</td>\n",
       "      <td>20.125000</td>\n",
       "      <td>0.000000</td>\n",
       "      <td>0.000000</td>\n",
       "      <td>7.910400</td>\n",
       "    </tr>\n",
       "    <tr>\n",
       "      <th>50%</th>\n",
       "      <td>446.000000</td>\n",
       "      <td>0.000000</td>\n",
       "      <td>3.000000</td>\n",
       "      <td>28.000000</td>\n",
       "      <td>0.000000</td>\n",
       "      <td>0.000000</td>\n",
       "      <td>14.454200</td>\n",
       "    </tr>\n",
       "    <tr>\n",
       "      <th>75%</th>\n",
       "      <td>668.500000</td>\n",
       "      <td>1.000000</td>\n",
       "      <td>3.000000</td>\n",
       "      <td>38.000000</td>\n",
       "      <td>1.000000</td>\n",
       "      <td>0.000000</td>\n",
       "      <td>31.000000</td>\n",
       "    </tr>\n",
       "    <tr>\n",
       "      <th>max</th>\n",
       "      <td>891.000000</td>\n",
       "      <td>1.000000</td>\n",
       "      <td>3.000000</td>\n",
       "      <td>80.000000</td>\n",
       "      <td>8.000000</td>\n",
       "      <td>6.000000</td>\n",
       "      <td>512.329200</td>\n",
       "    </tr>\n",
       "  </tbody>\n",
       "</table>\n",
       "</div>"
      ],
      "text/plain": [
       "       PassengerId    Survived      Pclass         Age       SibSp  \\\n",
       "count   891.000000  891.000000  891.000000  714.000000  891.000000   \n",
       "mean    446.000000    0.383838    2.308642   29.699118    0.523008   \n",
       "std     257.353842    0.486592    0.836071   14.526497    1.102743   \n",
       "min       1.000000    0.000000    1.000000    0.420000    0.000000   \n",
       "25%     223.500000    0.000000    2.000000   20.125000    0.000000   \n",
       "50%     446.000000    0.000000    3.000000   28.000000    0.000000   \n",
       "75%     668.500000    1.000000    3.000000   38.000000    1.000000   \n",
       "max     891.000000    1.000000    3.000000   80.000000    8.000000   \n",
       "\n",
       "            Parch        Fare  \n",
       "count  891.000000  891.000000  \n",
       "mean     0.381594   32.204208  \n",
       "std      0.806057   49.693429  \n",
       "min      0.000000    0.000000  \n",
       "25%      0.000000    7.910400  \n",
       "50%      0.000000   14.454200  \n",
       "75%      0.000000   31.000000  \n",
       "max      6.000000  512.329200  "
      ]
     },
     "execution_count": 4,
     "metadata": {},
     "output_type": "execute_result"
    }
   ],
   "source": [
    "train_data.describe() ## Explore Basics statistics"
   ]
  },
  {
   "cell_type": "code",
   "execution_count": 5,
   "id": "0d421aff",
   "metadata": {},
   "outputs": [
    {
     "name": "stdout",
     "output_type": "stream",
     "text": [
      "<class 'pandas.core.frame.DataFrame'>\n",
      "RangeIndex: 891 entries, 0 to 890\n",
      "Data columns (total 12 columns):\n",
      " #   Column       Non-Null Count  Dtype  \n",
      "---  ------       --------------  -----  \n",
      " 0   PassengerId  891 non-null    int64  \n",
      " 1   Survived     891 non-null    int64  \n",
      " 2   Pclass       891 non-null    int64  \n",
      " 3   Name         891 non-null    object \n",
      " 4   Sex          891 non-null    object \n",
      " 5   Age          714 non-null    float64\n",
      " 6   SibSp        891 non-null    int64  \n",
      " 7   Parch        891 non-null    int64  \n",
      " 8   Ticket       891 non-null    object \n",
      " 9   Fare         891 non-null    float64\n",
      " 10  Cabin        204 non-null    object \n",
      " 11  Embarked     889 non-null    object \n",
      "dtypes: float64(2), int64(5), object(5)\n",
      "memory usage: 83.7+ KB\n"
     ]
    }
   ],
   "source": [
    "## Let's Check the missing values\n",
    "\n",
    "train_data.info()\n"
   ]
  },
  {
   "cell_type": "code",
   "execution_count": 6,
   "id": "d2490c34",
   "metadata": {},
   "outputs": [
    {
     "data": {
      "text/plain": [
       "PassengerId      0\n",
       "Survived         0\n",
       "Pclass           0\n",
       "Name             0\n",
       "Sex              0\n",
       "Age            177\n",
       "SibSp            0\n",
       "Parch            0\n",
       "Ticket           0\n",
       "Fare             0\n",
       "Cabin          687\n",
       "Embarked         2\n",
       "dtype: int64"
      ]
     },
     "execution_count": 6,
     "metadata": {},
     "output_type": "execute_result"
    }
   ],
   "source": [
    "train_data.isnull().sum() "
   ]
  },
  {
   "cell_type": "markdown",
   "id": "e5bedd90",
   "metadata": {},
   "source": [
    "## Explore The Data Pattern"
   ]
  },
  {
   "cell_type": "code",
   "execution_count": 7,
   "id": "4a65fe25",
   "metadata": {},
   "outputs": [],
   "source": [
    "import seaborn as sns\n",
    "import matplotlib.pyplot as plt"
   ]
  },
  {
   "cell_type": "markdown",
   "id": "cb241c8e",
   "metadata": {},
   "source": [
    "### Check Survival Rate by Categories"
   ]
  },
  {
   "cell_type": "code",
   "execution_count": 8,
   "id": "a95c4e04",
   "metadata": {
    "scrolled": true
   },
   "outputs": [
    {
     "data": {
      "image/png": "[encoded data removed]",
      "text/plain": [
       "<Figure size 640x480 with 1 Axes>"
      ]
     },
     "metadata": {},
     "output_type": "display_data"
    },
    {
     "data": {
      "image/png": "[encoded data removed]",
      "text/plain": [
       "<Figure size 640x480 with 1 Axes>"
      ]
     },
     "metadata": {},
     "output_type": "display_data"
    }
   ],
   "source": [
    "## Survival Rate by Sex\n",
    "sns.barplot(x='Sex',y='Survived',data=train_data)\n",
    "plt.show()\n",
    "\n",
    "## Survival by ticket class\n",
    "sns.barplot(x='Pclass',y='Survived',data=train_data)\n",
    "plt.show()"
   ]
  },
  {
   "cell_type": "code",
   "execution_count": 9,
   "id": "e3cc934b",
   "metadata": {},
   "outputs": [
    {
     "data": {
      "image/png": "[encoded data removed]",
      "text/plain": [
       "<Figure size 640x480 with 1 Axes>"
      ]
     },
     "metadata": {},
     "output_type": "display_data"
    }
   ],
   "source": [
    "## Check age distribution\n",
    "\n",
    "sns.histplot(train_data['Age'],bins=30,kde=True)\n",
    "plt.show()"
   ]
  },
  {
   "cell_type": "code",
   "execution_count": 10,
   "id": "041e2944",
   "metadata": {},
   "outputs": [
    {
     "data": {
      "image/png": "[encoded data removed]",
      "text/plain": [
       "<Figure size 640x480 with 1 Axes>"
      ]
     },
     "metadata": {},
     "output_type": "display_data"
    }
   ],
   "source": [
    "## Check The Survival Rate by Age and Pclass\n",
    "\n",
    "sns.boxplot(x='Pclass',y='Age',hue='Survived',data=train_data)\n",
    "plt.show()"
   ]
  },
  {
   "cell_type": "code",
   "execution_count": 11,
   "id": "e2f7b583",
   "metadata": {},
   "outputs": [
    {
     "data": {
      "text/plain": [
       "Text(0.5, 1.0, 'Survival Rate by Family Size')"
      ]
     },
     "execution_count": 11,
     "metadata": {},
     "output_type": "execute_result"
    },
    {
     "data": {
      "image/png": "[encoded data removed]",
      "text/plain": [
       "<Figure size 640x480 with 1 Axes>"
      ]
     },
     "metadata": {},
     "output_type": "display_data"
    }
   ],
   "source": [
    "## Check The Family Influence\n",
    "\n",
    "train_data['FamilySize']=train_data['SibSp']+train_data['Parch']+1\n",
    "sns.barplot(x='FamilySize',y='Survived',data = train_data)\n",
    "\n",
    "plt.title(\"Survival Rate by Family Size\")"
   ]
  },
  {
   "cell_type": "code",
   "execution_count": 12,
   "id": "ca1d9764",
   "metadata": {},
   "outputs": [
    {
     "name": "stdout",
     "output_type": "stream",
     "text": [
      "FamilySize\n",
      "1     0.303538\n",
      "2     0.552795\n",
      "3     0.578431\n",
      "4     0.724138\n",
      "5     0.200000\n",
      "6     0.136364\n",
      "7     0.333333\n",
      "8     0.000000\n",
      "11    0.000000\n",
      "Name: Survived, dtype: float64\n",
      "1     537\n",
      "2     161\n",
      "3     102\n",
      "4      29\n",
      "5      15\n",
      "6      22\n",
      "7      12\n",
      "8       6\n",
      "11      7\n",
      "Name: FamilySize, dtype: int64\n"
     ]
    }
   ],
   "source": [
    "# Show survival rate for each FamilySize\n",
    "family_survival = train_data.groupby('FamilySize')['Survived'].mean()\n",
    "print(family_survival)\n",
    "\n",
    "# Show number of passengers for each FamilySize\n",
    "family_count = train_data['FamilySize'].value_counts().sort_index()\n",
    "print(family_count)\n"
   ]
  },
  {
   "cell_type": "code",
   "execution_count": 13,
   "id": "0c383f32",
   "metadata": {},
   "outputs": [
    {
     "data": {
      "text/plain": [
       "1    537\n",
       "0    354\n",
       "Name: IsAlone, dtype: int64"
      ]
     },
     "execution_count": 13,
     "metadata": {},
     "output_type": "execute_result"
    }
   ],
   "source": [
    "# Create IsAlone feature\n",
    "train_data['IsAlone'] = 0  # Default: not alone\n",
    "train_data.loc[train_data['FamilySize'] == 1, 'IsAlone'] = 1  # Alone = 1\n",
    "\n",
    "# Check the counts\n",
    "train_data['IsAlone'].value_counts()\n"
   ]
  },
  {
   "cell_type": "code",
   "execution_count": 14,
   "id": "236bd368",
   "metadata": {},
   "outputs": [
    {
     "data": {
      "text/plain": [
       "U    687\n",
       "C     59\n",
       "B     47\n",
       "D     33\n",
       "E     32\n",
       "A     15\n",
       "F     13\n",
       "G      4\n",
       "T      1\n",
       "Name: CabinDeck, dtype: int64"
      ]
     },
     "execution_count": 14,
     "metadata": {},
     "output_type": "execute_result"
    }
   ],
   "source": [
    "## Let's Try to explore Cabin Survival Rate by Deck\n",
    "\n",
    "## Lets deal with missing value and fill it \n",
    "\n",
    "train_data['Cabin'] = train_data['Cabin'].fillna(\"Unknown\")\n",
    "\n",
    "\n",
    "## We will use the first letter of Cabin to check survival called deck, so let's extract it from the Cabin\n",
    "\n",
    "train_data['CabinDeck']=train_data['Cabin'].apply(lambda x : x[0])\n",
    "train_data['CabinDeck'].value_counts()"
   ]
  },
  {
   "cell_type": "code",
   "execution_count": 15,
   "id": "8714f46c",
   "metadata": {},
   "outputs": [
    {
     "data": {
      "text/plain": [
       "CabinDeck\n",
       "A    0.466667\n",
       "B    0.744681\n",
       "C    0.593220\n",
       "D    0.757576\n",
       "E    0.750000\n",
       "F    0.615385\n",
       "G    0.500000\n",
       "T    0.000000\n",
       "U    0.299854\n",
       "Name: Survived, dtype: float64"
      ]
     },
     "execution_count": 15,
     "metadata": {},
     "output_type": "execute_result"
    }
   ],
   "source": [
    "## Calculate the survival rate by deck\n",
    "cabin_survival = train_data.groupby('CabinDeck')['Survived'].mean()\n",
    "cabin_survival"
   ]
  },
  {
   "cell_type": "code",
   "execution_count": 16,
   "id": "f2df7861",
   "metadata": {},
   "outputs": [
    {
     "data": {
      "image/png": "[encoded data removed]",
      "text/plain": [
       "<Figure size 640x480 with 1 Axes>"
      ]
     },
     "metadata": {},
     "output_type": "display_data"
    }
   ],
   "source": [
    "## Let's Plot the Graph\n",
    "sns.barplot(x=cabin_survival.index, y=cabin_survival.values)\n",
    "plt.title(\"Survival Rate by Cabin Deck\")\n",
    "plt.ylabel(\"Survival Rate\")\n",
    "plt.xlabel(\"Cabin Deck\")\n",
    "for i, val in enumerate(cabin_survival.values):\n",
    "    plt.text(i, val + 0.02, round(val, 2), ha='center')\n",
    "plt.show()"
   ]
  },
  {
   "cell_type": "code",
   "execution_count": 17,
   "id": "63be46a3",
   "metadata": {},
   "outputs": [
    {
     "data": {
      "text/plain": [
       "U_3    479\n",
       "U_2    168\n",
       "C_1     59\n",
       "B_1     47\n",
       "U_1     40\n",
       "D_1     29\n",
       "E_1     25\n",
       "A_1     15\n",
       "F_2      8\n",
       "F_3      5\n",
       "G_3      4\n",
       "D_2      4\n",
       "E_2      4\n",
       "E_3      3\n",
       "T_1      1\n",
       "Name: Deck_Class, dtype: int64"
      ]
     },
     "execution_count": 17,
     "metadata": {},
     "output_type": "execute_result"
    }
   ],
   "source": [
    "# Combine CabinDeck and Pclass into a single feature to see\n",
    "train_data['Deck_Class'] = train_data['CabinDeck'] + \"_\" + train_data['Pclass'].astype(str)\n",
    "train_data['Deck_Class'].value_counts()\n"
   ]
  },
  {
   "cell_type": "code",
   "execution_count": 18,
   "id": "5a228f34",
   "metadata": {},
   "outputs": [
    {
     "name": "stdout",
     "output_type": "stream",
     "text": [
      "Deck_Class\n",
      "E_3    1.000000\n",
      "F_2    0.875000\n",
      "D_1    0.758621\n",
      "D_2    0.750000\n",
      "E_2    0.750000\n",
      "B_1    0.744681\n",
      "E_1    0.720000\n",
      "C_1    0.593220\n",
      "G_3    0.500000\n",
      "U_1    0.475000\n",
      "A_1    0.466667\n",
      "U_2    0.440476\n",
      "U_3    0.235908\n",
      "F_3    0.200000\n",
      "T_1    0.000000\n",
      "Name: Survived, dtype: float64\n"
     ]
    }
   ],
   "source": [
    "## Let's calculate survival rate by Deck_Class\n",
    "\n",
    "deck_class_survival = train_data.groupby('Deck_Class')['Survived'].mean().sort_values(ascending=False)\n",
    "print(deck_class_survival)\n"
   ]
  },
  {
   "cell_type": "code",
   "execution_count": 19,
   "id": "7f88a4e4",
   "metadata": {},
   "outputs": [
    {
     "data": {
      "image/png": "[encoded data removed]",
      "text/plain": [
       "<Figure size 1000x600 with 1 Axes>"
      ]
     },
     "metadata": {},
     "output_type": "display_data"
    }
   ],
   "source": [
    "## Visualize the survival rate\n",
    "plt.figure(figsize=(10,6))\n",
    "sns.barplot(x=deck_class_survival.values, y=deck_class_survival.index)\n",
    "plt.xlabel(\"Survival Rate\")\n",
    "plt.ylabel(\"Deck + Pclass\")\n",
    "plt.title(\"Survival Rate by Deck and Pclass\")\n",
    "for i, val in enumerate(deck_class_survival.values):\n",
    "    plt.text(val + 0.02, i, round(val, 2), va='center')\n",
    "plt.show()\n"
   ]
  },
  {
   "cell_type": "markdown",
   "id": "d47acb35",
   "metadata": {},
   "source": [
    "## Feature Engineering: Combining Deck, Pclass, and Age\n",
    "\n",
    "In this section, we will create a new feature by combining:\n",
    "- `CabinDeck` (deck extracted from the first letter of Cabin)\n",
    "- `Pclass` (passenger class)\n",
    "- `AgeGroup` (categorical age group)\n",
    "\n",
    "The goal is to capture more complex patterns that might influence survival. For example, children in first-class decks might have had higher survival chances than adults in third-class decks.\n"
   ]
  },
  {
   "cell_type": "code",
   "execution_count": 20,
   "id": "cd980da2",
   "metadata": {},
   "outputs": [
    {
     "data": {
      "text/plain": [
       "U_3_YoungAdult    146\n",
       "U_3_nan           134\n",
       "U_3_Teen           92\n",
       "U_2_YoungAdult     77\n",
       "U_3_Adult          57\n",
       "U_3_Child          45\n",
       "U_2_Adult          43\n",
       "C_1_Adult          25\n",
       "U_2_Teen           22\n",
       "C_1_YoungAdult     17\n",
       "Name: Deck_Class_Age, dtype: int64"
      ]
     },
     "execution_count": 20,
     "metadata": {},
     "output_type": "execute_result"
    }
   ],
   "source": [
    "\n",
    "# Age bins to create categorical AgeGroup\n",
    "bins = [0, 12, 21, 35, 60, 80]  # Child, Teen, YoungAdult, Adult, Senior\n",
    "labels = ['Child','Teen','YoungAdult','Adult','Senior']\n",
    "train_data['AgeGroup'] = pd.cut(train_data['Age'], bins=bins, labels=labels)\n",
    "\n",
    "# Combine Deck + Pclass + AgeGroup into one feature\n",
    "train_data['Deck_Class_Age'] = train_data['CabinDeck'] + \"_\" + \\\n",
    "                               train_data['Pclass'].astype(str) + \"_\" + \\\n",
    "                               train_data['AgeGroup'].astype(str)\n",
    "\n",
    "# Show top 10 most common combinations\n",
    "train_data['Deck_Class_Age'].value_counts().head(10)\n"
   ]
  },
  {
   "cell_type": "code",
   "execution_count": 21,
   "id": "7df87db2",
   "metadata": {
    "scrolled": true
   },
   "outputs": [
    {
     "name": "stdout",
     "output_type": "stream",
     "text": [
      "Deck_Class_Age\n",
      "E_2_YoungAdult    1.000000\n",
      "E_3_YoungAdult    1.000000\n",
      "D_2_YoungAdult    1.000000\n",
      "E_1_YoungAdult    1.000000\n",
      "D_1_nan           1.000000\n",
      "E_1_nan           1.000000\n",
      "A_1_Child         1.000000\n",
      "E_1_Teen          1.000000\n",
      "E_3_Child         1.000000\n",
      "E_2_nan           1.000000\n",
      "B_1_Teen          1.000000\n",
      "F_2_Child         1.000000\n",
      "B_1_Child         1.000000\n",
      "F_2_YoungAdult    1.000000\n",
      "U_2_Child         1.000000\n",
      "D_1_YoungAdult    0.833333\n",
      "D_1_Adult         0.785714\n",
      "C_1_YoungAdult    0.764706\n",
      "B_1_Adult         0.750000\n",
      "U_1_YoungAdult    0.750000\n",
      "B_1_YoungAdult    0.733333\n",
      "C_1_nan           0.625000\n",
      "E_1_Adult         0.625000\n",
      "C_1_Teen          0.600000\n",
      "D_1_Teen          0.600000\n",
      "A_1_Adult         0.571429\n",
      "C_1_Adult         0.520000\n",
      "A_1_Senior        0.500000\n",
      "G_3_Child         0.500000\n",
      "F_3_nan           0.500000\n",
      "D_2_Adult         0.500000\n",
      "B_1_nan           0.500000\n",
      "A_1_YoungAdult    0.500000\n",
      "C_1_Child         0.500000\n",
      "D_1_Senior        0.500000\n",
      "G_3_YoungAdult    0.500000\n",
      "U_2_Teen          0.454545\n",
      "U_1_Adult         0.454545\n",
      "U_3_Child         0.400000\n",
      "U_2_Adult         0.395349\n",
      "U_2_YoungAdult    0.389610\n",
      "U_1_nan           0.357143\n",
      "U_2_Senior        0.333333\n",
      "U_2_nan           0.300000\n",
      "B_1_Senior        0.250000\n",
      "U_3_nan           0.246269\n",
      "U_3_YoungAdult    0.239726\n",
      "U_3_Teen          0.228261\n",
      "U_3_Senior        0.200000\n",
      "U_3_Adult         0.087719\n",
      "E_1_Senior        0.000000\n",
      "U_1_Senior        0.000000\n",
      "F_3_YoungAdult    0.000000\n",
      "F_3_Teen          0.000000\n",
      "F_3_Adult         0.000000\n",
      "A_1_nan           0.000000\n",
      "F_2_Adult         0.000000\n",
      "C_1_Senior        0.000000\n",
      "E_2_Adult         0.000000\n",
      "T_1_Adult         0.000000\n",
      "Name: Survived, dtype: float64\n"
     ]
    },
    {
     "data": {
      "image/png": "[encoded data removed]",
      "text/plain": [
       "<Figure size 1000x600 with 1 Axes>"
      ]
     },
     "metadata": {},
     "output_type": "display_data"
    }
   ],
   "source": [
    "deck_class_age_survival = train_data.groupby('Deck_Class_Age')['Survived'].mean().sort_values(ascending=False)\n",
    "print(deck_class_age_survival)\n",
    "\n",
    "\n",
    "plt.figure(figsize=(10,6))\n",
    "top_combinations = deck_class_age_survival.head(35)\n",
    "sns.barplot(x=top_combinations.values, y=top_combinations.index)\n",
    "plt.xlabel(\"Survival Rate\")\n",
    "plt.ylabel(\"Deck + Pclass + AgeGroup\")\n",
    "plt.title(\"Top Survival Rate Combinations\")\n",
    "for i, val in enumerate(top_combinations.values):\n",
    "    plt.text(val + 0.02, i, round(val, 2), va='center')\n",
    "plt.show()\n"
   ]
  },
  {
   "cell_type": "code",
   "execution_count": 22,
   "id": "38c7cb63",
   "metadata": {},
   "outputs": [
    {
     "data": {
      "image/png": "[encoded data removed]",
      "text/plain": [
       "<Figure size 800x500 with 1 Axes>"
      ]
     },
     "metadata": {},
     "output_type": "display_data"
    }
   ],
   "source": [
    "# Filter only Deck E\n",
    "deck_e = train_data[train_data['CabinDeck'] == 'E']\n",
    "\n",
    "# Group by Pclass and AgeGroup, calculate survival rate\n",
    "deck_e_survival = deck_e.groupby(['Pclass','AgeGroup'])['Survived'].mean().reset_index()\n",
    "\n",
    "# Plot\n",
    "plt.figure(figsize=(8,5))\n",
    "sns.barplot(x='Pclass', y='Survived', hue='AgeGroup', data=deck_e_survival, palette='Set2')\n",
    "\n",
    "plt.title(\"Survival Rate in Deck E by Pclass and AgeGroup\")\n",
    "plt.ylabel(\"Survival Rate\")\n",
    "plt.xlabel(\"Pclass\")\n",
    "plt.ylim(0,1.05)\n",
    "plt.legend(title=\"AgeGroup\")\n",
    "plt.show()\n"
   ]
  },
  {
   "cell_type": "code",
   "execution_count": 23,
   "id": "7494ca3b",
   "metadata": {},
   "outputs": [
    {
     "name": "stdout",
     "output_type": "stream",
     "text": [
      "S    644\n",
      "C    168\n",
      "Q     77\n",
      "Name: Embarked, dtype: int64\n",
      "Embarked\n",
      "C    0.553571\n",
      "Q    0.389610\n",
      "S    0.336957\n",
      "Name: Survived, dtype: float64\n"
     ]
    },
    {
     "data": {
      "image/png": "[encoded data removed]",
      "text/plain": [
       "<Figure size 640x480 with 1 Axes>"
      ]
     },
     "metadata": {},
     "output_type": "display_data"
    }
   ],
   "source": [
    "# Count of passengers by Embarked\n",
    "print(train_data['Embarked'].value_counts())\n",
    "\n",
    "# Survival rate by Embarked\n",
    "embarked_survival = train_data.groupby('Embarked')['Survived'].mean()\n",
    "print(embarked_survival)\n",
    "\n",
    "# Visualize\n",
    "sns.barplot(x=embarked_survival.index, y=embarked_survival.values, palette='pastel')\n",
    "plt.title(\"Survival Rate by Embarked Port\")\n",
    "plt.ylabel(\"Survival Rate\")\n",
    "plt.xlabel(\"Port of Embarkation\")\n",
    "plt.ylim(0,1)\n",
    "for i, val in enumerate(embarked_survival.values):\n",
    "    plt.text(i, val + 0.02, round(val, 2), ha='center')\n",
    "plt.show()\n"
   ]
  },
  {
   "cell_type": "markdown",
   "id": "c5f64005",
   "metadata": {},
   "source": [
    "# Titanic Dataset Exploration & Feature Insights\n",
    "\n",
    "## 1️⃣ Dataset Overview\n",
    "- The dataset contains **891 rows** and **12 columns**.\n",
    "- Key columns:\n",
    "  - `Survived` → Target variable (0 = did not survive, 1 = survived)\n",
    "  - `Pclass` → Passenger class (1,2,3)\n",
    "  - `Sex` → Male/Female\n",
    "  - `Age` → Age in years\n",
    "  - `SibSp` & `Parch` → Family relations\n",
    "  - `Cabin` → Cabin number (many missing values)\n",
    "  - `Embarked` → Port of embarkation\n",
    "\n",
    "---\n",
    "\n",
    "## 2️⃣ Missing Values\n",
    "- `Age` → 177 missing  \n",
    "- `Cabin` → 687 missing  \n",
    "- `Embarked` → 2 missing  \n",
    "**Observation:** Age and Cabin need attention; Embarked has very few missing values.\n",
    "\n",
    "---\n",
    "\n",
    "## 3️⃣ Exploratory Analysis\n",
    "\n",
    "### **Sex**\n",
    "- Females had a much higher survival rate than males.\n",
    "- **Sex is a strong predictor of survival.**\n",
    "\n",
    "### **Pclass**\n",
    "- First-class passengers had higher survival rates.\n",
    "- Third-class passengers had lower survival rates.\n",
    "- **Pclass captures socio-economic impact on survival.**\n",
    "\n",
    "### **Age**\n",
    "- Children had higher survival rates than adults.\n",
    "- Seniors had lower survival rates.\n",
    "- Binning Age into categories (`Child`, `Teen`, `YoungAdult`, `Adult`, `Senior`) helps in feature engineering.\n",
    "\n",
    "### **Family Size**\n",
    "- FamilySize = `SibSp + Parch + 1`  \n",
    "- Survival patterns:\n",
    "  - Passengers alone (FamilySize=1) or very large families → lower survival  \n",
    "  - Small families (2–4) → higher survival\n",
    "\n",
    "### **Cabin / Deck**\n",
    "- Extracted `CabinDeck` as the first letter of Cabin.  \n",
    "- Survival patterns by deck:\n",
    "  - Decks B, C, D, E → higher survival  \n",
    "  - Unknown (`U`) → lower survival  \n",
    "\n",
    "### **Combined Deck + Pclass**\n",
    "- Deck + Pclass feature reveals stronger patterns:\n",
    "  - Example: `B_1` → very high survival  \n",
    "  - Example: `U_3` → low survival  \n",
    "\n",
    "### **Combined Deck + Pclass + AgeGroup**\n",
    "- Even more granular patterns emerge:  \n",
    "  - Deck E shows **very high survival** for YoungAdults, Children, and Teens in higher classes.  \n",
    "  - Adults in lower classes have lower survival even in Deck E.  \n",
    "- **Insight:** Combining features uncovers hidden patterns that single features cannot capture.\n",
    "\n",
    "### **Embarked (Port of Embarkation)**\n",
    "- Values: C (Cherbourg), Q (Queenstown), S (Southampton)  \n",
    "- Survival patterns:\n",
    "  - Slightly higher survival for passengers from **Cherbourg (C)**  \n",
    "- **Observation:** Embarked can be used as a categorical feature for modeling.\n",
    "\n",
    "---\n",
    "\n",
    "## 4️⃣ Summary of Insights\n",
    "- **Strong predictors:** Sex, Pclass, CabinDeck, AgeGroup, FamilySize, combined features (`Deck_Class`, `Deck_Class_Age`)  \n",
    "- **Moderate predictors:** Embarked  \n",
    "- **Actionable feature engineering:**  \n",
    "  - `FamilySize`  \n",
    "  - `IsAlone` (derived from FamilySize)  \n",
    "  - `Deck_Class` (CabinDeck + Pclass)  \n",
    "  - `Deck_Class_Age` (CabinDeck + Pclass + AgeGroup)  \n",
    "- These insights will guide **data cleaning, encoding, and model building** to maximize accuracy.\n"
   ]
  },
  {
   "cell_type": "markdown",
   "id": "2ba0cf9b",
   "metadata": {},
   "source": [
    "## Data Cleaning"
   ]
  },
  {
   "cell_type": "markdown",
   "id": "66558571",
   "metadata": {},
   "source": [
    "### Step 1 : Handle missing values"
   ]
  },
  {
   "cell_type": "markdown",
   "id": "e5e1a642",
   "metadata": {},
   "source": [
    "### 1. Age\n",
    "\n",
    "#### We have 177 missing values. We’ll fill them with the median age of passengers grouped by Pclass and Sex, which usually works better than a global median."
   ]
  },
  {
   "cell_type": "code",
   "execution_count": 24,
   "id": "aa4b7c06",
   "metadata": {},
   "outputs": [],
   "source": [
    "# Fill Age missing values using median by Pclass and Sex\n",
    "train_data['Age'] = train_data.groupby(['Pclass','Sex'])['Age'].apply(lambda x  : x.fillna(x.median()))"
   ]
  },
  {
   "cell_type": "code",
   "execution_count": 25,
   "id": "398667b0",
   "metadata": {},
   "outputs": [
    {
     "data": {
      "text/plain": [
       "0"
      ]
     },
     "execution_count": 25,
     "metadata": {},
     "output_type": "execute_result"
    }
   ],
   "source": [
    "train_data['Age'].isnull().sum()"
   ]
  },
  {
   "cell_type": "markdown",
   "id": "b72f7361",
   "metadata": {},
   "source": [
    "### 2. Embarked\n",
    "##### Only 2 missing values. We can fill them with the most frequent port:"
   ]
  },
  {
   "cell_type": "code",
   "execution_count": 26,
   "id": "5992fe13",
   "metadata": {},
   "outputs": [],
   "source": [
    "# Fill missing Embarked with mode\n",
    "train_data['Embarked'] = train_data['Embarked'].fillna(train_data['Embarked'].mode()[0])"
   ]
  },
  {
   "cell_type": "markdown",
   "id": "7f720d4a",
   "metadata": {},
   "source": [
    "### 3. Cabin\n",
    "\n",
    "#### We already created CabinDeck and filled missing Cabin with \"Unknown\", so nothing more needed here."
   ]
  },
  {
   "cell_type": "markdown",
   "id": "e4b00358",
   "metadata": {},
   "source": [
    "### Step 2 : Encode Categorical Variables"
   ]
  },
  {
   "cell_type": "code",
   "execution_count": 27,
   "id": "989f2783",
   "metadata": {},
   "outputs": [],
   "source": [
    "# Encode Sex: male=0, female=1\n",
    "train_data['Sex'] = train_data['Sex'].map({'male':0, 'female':1})\n",
    "\n",
    "# Encode Embarked using one-hot encoding \n",
    "train_data = pd.get_dummies(train_data, columns=['Embarked'], drop_first=True)\n",
    "\n",
    "# Encode Deck_Class_Age using one-hot encoding\n",
    "train_data = pd.get_dummies(train_data, columns=['Deck_Class_Age'], drop_first=True)\n"
   ]
  },
  {
   "cell_type": "markdown",
   "id": "030ae488",
   "metadata": {},
   "source": [
    "### Step 3: Drop Unnecessary Columns"
   ]
  },
  {
   "cell_type": "code",
   "execution_count": 28,
   "id": "01cd28a2",
   "metadata": {},
   "outputs": [],
   "source": [
    "train_data.drop(['Name','Ticket','PassengerId','Cabin','CabinDeck','Deck_Class'], axis=1, inplace=True)\n"
   ]
  },
  {
   "cell_type": "code",
   "execution_count": 29,
   "id": "a4d22973",
   "metadata": {},
   "outputs": [
    {
     "data": {
      "text/html": [
       "<div>\n",
       "<style scoped>\n",
       "    .dataframe tbody tr th:only-of-type {\n",
       "        vertical-align: middle;\n",
       "    }\n",
       "\n",
       "    .dataframe tbody tr th {\n",
       "        vertical-align: top;\n",
       "    }\n",
       "\n",
       "    .dataframe thead th {\n",
       "        text-align: right;\n",
       "    }\n",
       "</style>\n",
       "<table border=\"1\" class=\"dataframe\">\n",
       "  <thead>\n",
       "    <tr style=\"text-align: right;\">\n",
       "      <th></th>\n",
       "      <th>Survived</th>\n",
       "      <th>Pclass</th>\n",
       "      <th>Sex</th>\n",
       "      <th>Age</th>\n",
       "      <th>SibSp</th>\n",
       "      <th>Parch</th>\n",
       "      <th>Fare</th>\n",
       "      <th>FamilySize</th>\n",
       "      <th>IsAlone</th>\n",
       "      <th>AgeGroup</th>\n",
       "      <th>...</th>\n",
       "      <th>Deck_Class_Age_U_2_Senior</th>\n",
       "      <th>Deck_Class_Age_U_2_Teen</th>\n",
       "      <th>Deck_Class_Age_U_2_YoungAdult</th>\n",
       "      <th>Deck_Class_Age_U_2_nan</th>\n",
       "      <th>Deck_Class_Age_U_3_Adult</th>\n",
       "      <th>Deck_Class_Age_U_3_Child</th>\n",
       "      <th>Deck_Class_Age_U_3_Senior</th>\n",
       "      <th>Deck_Class_Age_U_3_Teen</th>\n",
       "      <th>Deck_Class_Age_U_3_YoungAdult</th>\n",
       "      <th>Deck_Class_Age_U_3_nan</th>\n",
       "    </tr>\n",
       "  </thead>\n",
       "  <tbody>\n",
       "    <tr>\n",
       "      <th>0</th>\n",
       "      <td>0</td>\n",
       "      <td>3</td>\n",
       "      <td>0</td>\n",
       "      <td>22.0</td>\n",
       "      <td>1</td>\n",
       "      <td>0</td>\n",
       "      <td>7.2500</td>\n",
       "      <td>2</td>\n",
       "      <td>0</td>\n",
       "      <td>YoungAdult</td>\n",
       "      <td>...</td>\n",
       "      <td>0</td>\n",
       "      <td>0</td>\n",
       "      <td>0</td>\n",
       "      <td>0</td>\n",
       "      <td>0</td>\n",
       "      <td>0</td>\n",
       "      <td>0</td>\n",
       "      <td>0</td>\n",
       "      <td>1</td>\n",
       "      <td>0</td>\n",
       "    </tr>\n",
       "    <tr>\n",
       "      <th>1</th>\n",
       "      <td>1</td>\n",
       "      <td>1</td>\n",
       "      <td>1</td>\n",
       "      <td>38.0</td>\n",
       "      <td>1</td>\n",
       "      <td>0</td>\n",
       "      <td>71.2833</td>\n",
       "      <td>2</td>\n",
       "      <td>0</td>\n",
       "      <td>Adult</td>\n",
       "      <td>...</td>\n",
       "      <td>0</td>\n",
       "      <td>0</td>\n",
       "      <td>0</td>\n",
       "      <td>0</td>\n",
       "      <td>0</td>\n",
       "      <td>0</td>\n",
       "      <td>0</td>\n",
       "      <td>0</td>\n",
       "      <td>0</td>\n",
       "      <td>0</td>\n",
       "    </tr>\n",
       "    <tr>\n",
       "      <th>2</th>\n",
       "      <td>1</td>\n",
       "      <td>3</td>\n",
       "      <td>1</td>\n",
       "      <td>26.0</td>\n",
       "      <td>0</td>\n",
       "      <td>0</td>\n",
       "      <td>7.9250</td>\n",
       "      <td>1</td>\n",
       "      <td>1</td>\n",
       "      <td>YoungAdult</td>\n",
       "      <td>...</td>\n",
       "      <td>0</td>\n",
       "      <td>0</td>\n",
       "      <td>0</td>\n",
       "      <td>0</td>\n",
       "      <td>0</td>\n",
       "      <td>0</td>\n",
       "      <td>0</td>\n",
       "      <td>0</td>\n",
       "      <td>1</td>\n",
       "      <td>0</td>\n",
       "    </tr>\n",
       "    <tr>\n",
       "      <th>3</th>\n",
       "      <td>1</td>\n",
       "      <td>1</td>\n",
       "      <td>1</td>\n",
       "      <td>35.0</td>\n",
       "      <td>1</td>\n",
       "      <td>0</td>\n",
       "      <td>53.1000</td>\n",
       "      <td>2</td>\n",
       "      <td>0</td>\n",
       "      <td>YoungAdult</td>\n",
       "      <td>...</td>\n",
       "      <td>0</td>\n",
       "      <td>0</td>\n",
       "      <td>0</td>\n",
       "      <td>0</td>\n",
       "      <td>0</td>\n",
       "      <td>0</td>\n",
       "      <td>0</td>\n",
       "      <td>0</td>\n",
       "      <td>0</td>\n",
       "      <td>0</td>\n",
       "    </tr>\n",
       "    <tr>\n",
       "      <th>4</th>\n",
       "      <td>0</td>\n",
       "      <td>3</td>\n",
       "      <td>0</td>\n",
       "      <td>35.0</td>\n",
       "      <td>0</td>\n",
       "      <td>0</td>\n",
       "      <td>8.0500</td>\n",
       "      <td>1</td>\n",
       "      <td>1</td>\n",
       "      <td>YoungAdult</td>\n",
       "      <td>...</td>\n",
       "      <td>0</td>\n",
       "      <td>0</td>\n",
       "      <td>0</td>\n",
       "      <td>0</td>\n",
       "      <td>0</td>\n",
       "      <td>0</td>\n",
       "      <td>0</td>\n",
       "      <td>0</td>\n",
       "      <td>1</td>\n",
       "      <td>0</td>\n",
       "    </tr>\n",
       "  </tbody>\n",
       "</table>\n",
       "<p>5 rows × 71 columns</p>\n",
       "</div>"
      ],
      "text/plain": [
       "   Survived  Pclass  Sex   Age  SibSp  Parch     Fare  FamilySize  IsAlone  \\\n",
       "0         0       3    0  22.0      1      0   7.2500           2        0   \n",
       "1         1       1    1  38.0      1      0  71.2833           2        0   \n",
       "2         1       3    1  26.0      0      0   7.9250           1        1   \n",
       "3         1       1    1  35.0      1      0  53.1000           2        0   \n",
       "4         0       3    0  35.0      0      0   8.0500           1        1   \n",
       "\n",
       "     AgeGroup  ...  Deck_Class_Age_U_2_Senior  Deck_Class_Age_U_2_Teen  \\\n",
       "0  YoungAdult  ...                          0                        0   \n",
       "1       Adult  ...                          0                        0   \n",
       "2  YoungAdult  ...                          0                        0   \n",
       "3  YoungAdult  ...                          0                        0   \n",
       "4  YoungAdult  ...                          0                        0   \n",
       "\n",
       "   Deck_Class_Age_U_2_YoungAdult  Deck_Class_Age_U_2_nan  \\\n",
       "0                              0                       0   \n",
       "1                              0                       0   \n",
       "2                              0                       0   \n",
       "3                              0                       0   \n",
       "4                              0                       0   \n",
       "\n",
       "   Deck_Class_Age_U_3_Adult  Deck_Class_Age_U_3_Child  \\\n",
       "0                         0                         0   \n",
       "1                         0                         0   \n",
       "2                         0                         0   \n",
       "3                         0                         0   \n",
       "4                         0                         0   \n",
       "\n",
       "   Deck_Class_Age_U_3_Senior  Deck_Class_Age_U_3_Teen  \\\n",
       "0                          0                        0   \n",
       "1                          0                        0   \n",
       "2                          0                        0   \n",
       "3                          0                        0   \n",
       "4                          0                        0   \n",
       "\n",
       "   Deck_Class_Age_U_3_YoungAdult  Deck_Class_Age_U_3_nan  \n",
       "0                              1                       0  \n",
       "1                              0                       0  \n",
       "2                              1                       0  \n",
       "3                              0                       0  \n",
       "4                              1                       0  \n",
       "\n",
       "[5 rows x 71 columns]"
      ]
     },
     "execution_count": 29,
     "metadata": {},
     "output_type": "execute_result"
    }
   ],
   "source": [
    "train_data.head()"
   ]
  },
  {
   "cell_type": "markdown",
   "id": "60ddc670",
   "metadata": {},
   "source": [
    "# Data Cleaning and Feature Engineering Summary\n",
    "\n",
    "After exploring the dataset and understanding patterns, the next step is to clean the data and create features that will help the model predict survival more accurately.\n",
    "\n",
    "---\n",
    "\n",
    "## 1. Handle Missing Values\n",
    "- **Age:** 177 missing values were filled with the median age grouped by Pclass and Sex. This helps maintain patterns in survival by class and gender.  \n",
    "- **Embarked:** 2 missing values were filled with the most frequent port, which is `S`.  \n",
    "- **Cabin:** Already handled by creating `CabinDeck` and filling missing values with \"Unknown\".\n",
    "\n",
    "---\n",
    "\n",
    "## 2. Encode Categorical Variables\n",
    "Some features are categorical (text labels), which cannot be directly used by machine learning models. We converted them into numeric values:  \n",
    "- **Sex:** male → 0, female → 1  \n",
    "- **Embarked:** one-hot encoding (Embarked_Q, Embarked_S)  \n",
    "- **Deck_Class_Age:** one-hot encoding (combinations like U_2_YoungAdult)\n",
    "\n",
    "**Reason:** Machine learning models need numeric input. Proper encoding allows the model to learn patterns from categorical data.\n",
    "\n",
    "---\n",
    "\n",
    "## 3. Feature Engineering\n",
    "We created additional features based on domain knowledge and patterns observed during exploration:  \n",
    "- **FamilySize:** SibSp + Parch + 1, to capture the influence of family size on survival.  \n",
    "- **IsAlone:** 1 if FamilySize is 1, else 0. Passengers traveling alone might have different survival chances.  \n",
    "- **AgeGroup:** Categorized age into Child, Teen, YoungAdult, Adult, Senior to capture survival differences by age groups.\n",
    "\n",
    "---\n",
    "\n",
    "## 4. Drop Unnecessary Columns\n",
    "Columns such as Name, Ticket, PassengerId, Cabin, CabinDeck, and Deck_Class were dropped because they are redundant or already represented in engineered features.\n",
    "\n",
    "---\n",
    "\n",
    "**Outcome:**  \n",
    "- All features are numeric and ready for modeling.  \n",
    "- The dataset now contains the target variable (Survived), numeric features, and one-hot encoded categorical features.  \n",
    "- Engineered features capture patterns discovered during exploration, which should help improve model accuracy.\n"
   ]
  },
  {
   "cell_type": "markdown",
   "id": "08be8470",
   "metadata": {},
   "source": [
    "# Modeling Phase\n",
    "\n",
    "After cleaning the data and creating meaningful features, we can now train machine learning models to predict survival. \n",
    "The engineered features from previous steps (FamilySize, IsAlone, AgeGroup, Deck_Class_Age, etc.) will help the model capture important patterns observed during exploration.\n"
   ]
  },
  {
   "cell_type": "code",
   "execution_count": 30,
   "id": "1d9af021",
   "metadata": {},
   "outputs": [
    {
     "name": "stdout",
     "output_type": "stream",
     "text": [
      "Training set shape: (712, 70)\n",
      "Validation set shape: (179, 70)\n"
     ]
    }
   ],
   "source": [
    "# Import necessary libraries\n",
    "from sklearn.model_selection import train_test_split\n",
    "from sklearn.ensemble import RandomForestClassifier\n",
    "from sklearn.metrics import accuracy_score, confusion_matrix, classification_report\n",
    "\n",
    "# Separate features and target\n",
    "X = train_data.drop('Survived', axis=1)\n",
    "y = train_data['Survived']\n",
    "\n",
    "# Split dataset into training and validation sets (80% train, 20% validation)\n",
    "X_train, X_val, y_train, y_val = train_test_split(X, y, test_size=0.2, random_state=42)\n",
    "\n",
    "print(\"Training set shape:\", X_train.shape)\n",
    "print(\"Validation set shape:\", X_val.shape)\n"
   ]
  },
  {
   "cell_type": "markdown",
   "id": "55958c83",
   "metadata": {},
   "source": [
    "## 1. Baseline Model: Random Forest\n",
    "We will start with a Random Forest Classifier as a baseline.  \n",
    "- Random Forest is robust and can handle both numeric and categorical features (after encoding).  \n",
    "- It is less sensitive to outliers and can capture complex interactions between features.\n"
   ]
  },
  {
   "cell_type": "code",
   "execution_count": 31,
   "id": "9bf98167",
   "metadata": {},
   "outputs": [
    {
     "data": {
      "text/plain": [
       "Index([], dtype='object')"
      ]
     },
     "execution_count": 31,
     "metadata": {},
     "output_type": "execute_result"
    }
   ],
   "source": [
    "# Check non-numeric columns\n",
    "X.select_dtypes(include='object').columns\n"
   ]
  },
  {
   "cell_type": "code",
   "execution_count": 32,
   "id": "701e005b",
   "metadata": {},
   "outputs": [],
   "source": [
    "# One-hot encode categorical features\n",
    "X = pd.get_dummies(X, columns=['AgeGroup'], drop_first=True)  # drop_first=True avoids dummy variable trap\n"
   ]
  },
  {
   "cell_type": "code",
   "execution_count": 42,
   "id": "f1092b1d",
   "metadata": {},
   "outputs": [
    {
     "name": "stdout",
     "output_type": "stream",
     "text": [
      "Validation Accuracy: 0.8045\n",
      "\n",
      "Confusion Matrix:\n",
      " [[90 15]\n",
      " [20 54]]\n",
      "\n",
      "Classification Report:\n",
      "               precision    recall  f1-score   support\n",
      "\n",
      "           0       0.82      0.86      0.84       105\n",
      "           1       0.78      0.73      0.76        74\n",
      "\n",
      "    accuracy                           0.80       179\n",
      "   macro avg       0.80      0.79      0.80       179\n",
      "weighted avg       0.80      0.80      0.80       179\n",
      "\n"
     ]
    }
   ],
   "source": [
    "from sklearn.model_selection import train_test_split\n",
    "from sklearn.ensemble import RandomForestClassifier\n",
    "from sklearn.metrics import accuracy_score, confusion_matrix, classification_report\n",
    "import pandas as pd\n",
    "\n",
    "# Copy the dataset\n",
    "data = train_data.copy()\n",
    "\n",
    "# Convert all categorical columns into numeric using one-hot encoding\n",
    "data = pd.get_dummies(data, drop_first=True)\n",
    "\n",
    "# Split into features (X) and target (y)\n",
    "X = data.drop('Survived', axis=1)\n",
    "y = data['Survived']\n",
    "\n",
    "# Split into training and validation sets\n",
    "X_train, X_val, y_train, y_val = train_test_split(X, y, test_size=0.2, random_state=42)\n",
    "\n",
    "# Initialize and train Random Forest model\n",
    "rf_model = RandomForestClassifier(random_state=42, n_estimators=100)\n",
    "rf_model.fit(X_train, y_train)\n",
    "\n",
    "# Predict on validation set\n",
    "y_pred = rf_model.predict(X_val)\n",
    "\n",
    "# Evaluate model\n",
    "accuracy = accuracy_score(y_val, y_pred)\n",
    "print(\"Validation Accuracy:\", round(accuracy, 4))\n",
    "print(\"\\nConfusion Matrix:\\n\", confusion_matrix(y_val, y_pred))\n",
    "print(\"\\nClassification Report:\\n\", classification_report(y_val, y_pred))\n"
   ]
  },
  {
   "cell_type": "markdown",
   "id": "0b173b60",
   "metadata": {},
   "source": [
    "## 2. Fold Cross-Validation"
   ]
  },
  {
   "cell_type": "code",
   "execution_count": 52,
   "id": "5f5c9ca5",
   "metadata": {},
   "outputs": [
    {
     "name": "stdout",
     "output_type": "stream",
     "text": [
      "5-Fold CV Accuracy: 0.817\n",
      "Individual Fold Accuracies:/ [0.84916201 0.80898876 0.79775281 0.82022472 0.80898876]\n"
     ]
    }
   ],
   "source": [
    "\n",
    "# Fold Cross-Validation\n",
    "\n",
    "from sklearn.model_selection import StratifiedKFold, cross_val_score\n",
    "\n",
    "# Create 5 folds with balanced survival ratio\n",
    "skf = StratifiedKFold(n_splits=5, shuffle=True, random_state=42)\n",
    "\n",
    "# Perform cross-validation using your existing model (rf_model)\n",
    "cv_scores = cross_val_score(rf_model, X, y, cv=skf, scoring='accuracy')\n",
    "\n",
    "# Print average accuracy across folds\n",
    "print(\"5-Fold CV Accuracy:\", round(cv_scores.mean(), 4))\n",
    "print(\"Individual Fold Accuracies:/\", cv_scores)\n"
   ]
  },
  {
   "cell_type": "code",
   "execution_count": null,
   "id": "b780371c",
   "metadata": {},
   "outputs": [],
   "source": []
  },
  {
   "cell_type": "markdown",
   "id": "74dde836",
   "metadata": {},
   "source": [
    "## 3. Analysis of Results\n",
    "- **Accuracy score:** gives the overall percentage of correct predictions.  \n",
    "- **Confusion matrix:** shows True Positives, True Negatives, False Positives, and False Negatives.  \n",
    "- **Classification report:** provides precision, recall, and F1-score for each class.\n",
    "\n",
    "The high-level patterns discovered in the previous phases (such as Deck_Class_Age and FamilySize) are now helping the model make better predictions. Features like these reduce errors and improve accuracy.\n"
   ]
  },
  {
   "cell_type": "markdown",
   "id": "b517c0f8",
   "metadata": {},
   "source": [
    "# Modeling Results and Analysis\n",
    "\n",
    "## 1. Validation Accuracy\n",
    "The Random Forest model achieved a **validation accuracy of 80.45%**, which means it correctly predicted the survival of about 8 out of 10 passengers in the validation set.  \n",
    "This is a solid baseline for the Titanic dataset.\n",
    "\n",
    "---\n",
    "\n",
    "## 2. Confusion Matrix\n",
    "\n",
    "\n",
    "[[90 15]\n",
    "[20 54]]\n",
    "\n",
    "- **True Negatives (90):** Passengers correctly predicted as did not survive.  \n",
    "- **True Positives (54):** Passengers correctly predicted as survived.  \n",
    "- **False Positives (15):** Predicted survived but actually did not survive.  \n",
    "- **False Negatives (20):** Predicted did not survive but actually survived.  \n",
    "\n",
    "> The model performs slightly better at predicting **non-survivors** than survivors.\n",
    "\n",
    "---\n",
    "\n",
    "## 3. Classification Report\n",
    "- **Precision:** Of passengers predicted to survive, how many actually survived.  \n",
    "  - Class 1 (Survived) → 0.78  \n",
    "- **Recall:** Of all actual survivors, how many were correctly predicted.  \n",
    "  - Class 1 → 0.73  \n",
    "- **F1-score:** Balance of precision and recall.  \n",
    "  - Class 1 → 0.76  \n",
    "\n",
    "Weighted averages consider both classes and give an overall effectiveness of ~0.80.\n",
    "\n",
    "---\n",
    "\n",
    "## 4. Takeaways\n",
    "- The **engineered features** like `Deck_Class_Age`, `FamilySize`, `IsAlone`, and `AgeGroup` clearly helped the model.  \n",
    "- Misclassified survivors (False Negatives) are still present, reflecting subtle survival patterns not fully captured.  \n",
    "- This baseline provides a strong foundation for further improvements.\n",
    "\n",
    "---\n",
    "\n",
    "### 5-Fold Cross-Validation\n",
    "\n",
    "To ensure that our model is reliable and not just lucky on one train-validation split, we perform **Stratified 5-Fold Cross-Validation**.  \n",
    "This splits the data into 5 parts, trains on 4 parts, tests on 1 part, and repeats this for all folds.  \n",
    "The average accuracy across all folds gives a **better estimate of model performance**.\n",
    "\n",
    "Our 5-Fold CV Accuracy: **0.817 (~82%)**\n"
   ]
  },
  {
   "cell_type": "code",
   "execution_count": 62,
   "id": "42d21af1",
   "metadata": {
    "scrolled": true
   },
   "outputs": [],
   "source": [
    "from sklearn.preprocessing import LabelEncoder\n",
    "\n",
    "encoders = {}\n",
    "for col in train_data.columns:\n",
    "    if train_data[col].dtype == 'object':\n",
    "        le = LabelEncoder()\n",
    "        train_data[col] = le.fit_transform(train_data[col].astype(str))\n",
    "        encoders[col] = le\n",
    "\n",
    "for col in test_data.columns:\n",
    "    if test_data[col].dtype == 'object' and col in encoders:\n",
    "        test_data[col] = encoders[col].transform(test_data[col].astype(str))\n",
    "\n"
   ]
  },
  {
   "cell_type": "code",
   "execution_count": 63,
   "id": "95f9ada4",
   "metadata": {},
   "outputs": [],
   "source": [
    "# Drop text columns not used for training\n",
    "drop_cols = ['Name', 'Ticket', 'Cabin']\n",
    "test_data = test_data.drop(columns=[c for c in drop_cols if c in test_data.columns], errors='ignore')\n",
    "\n",
    "# Convert remaining object columns to numeric using encoders\n",
    "for col in test_data.columns:\n",
    "    if test_data[col].dtype == 'object':\n",
    "        if col in encoders:\n",
    "            test_data[col] = encoders[col].transform(test_data[col].astype(str))\n",
    "        else:\n",
    "            test_data[col] = 0  # fallback if new unseen string\n",
    "\n",
    "# Ensure same columns and order as training\n",
    "missing_cols = set(X_train.columns) - set(test_data.columns)\n",
    "for col in missing_cols:\n",
    "    test_data[col] = 0\n",
    "\n",
    "test_data = test_data[X_train.columns]\n",
    "\n",
    "# Predict again\n",
    "predictions = rf_model.predict(test_data)\n"
   ]
  },
  {
   "cell_type": "code",
   "execution_count": 64,
   "id": "1bc3489f",
   "metadata": {},
   "outputs": [
    {
     "name": "stdout",
     "output_type": "stream",
     "text": [
      "submission.csv created successfully! Ready for Kaggle upload.\n"
     ]
    }
   ],
   "source": [
    "\n",
    "original_test = pd.read_csv('test.csv')\n",
    "\n",
    "# Create the final submission file\n",
    "submission = pd.DataFrame({\n",
    "    'PassengerId': original_test['PassengerId'],\n",
    "    'Survived': predictions\n",
    "})\n",
    "\n",
    "# Save as CSV\n",
    "submission.to_csv('submission.csv', index=False)\n",
    "print(\"submission.csv created successfully! Ready for Kaggle upload.\")\n",
    "\n"
   ]
  },
  {
   "cell_type": "code",
   "execution_count": null,
   "id": "0a6c2f19",
   "metadata": {},
   "outputs": [],
   "source": []
  },
  {
   "cell_type": "code",
   "execution_count": null,
   "id": "96d3e524",
   "metadata": {},
   "outputs": [],
   "source": []
  }
 ],
 "metadata": {
  "kernelspec": {
   "display_name": "Python 3 (ipykernel)",
   "language": "python",
   "name": "python3"
  },
  "language_info": {
   "codemirror_mode": {
    "name": "ipython",
    "version": 3
   },
   "file_extension": ".py",
   "mimetype": "text/x-python",
   "name": "python",
   "nbconvert_exporter": "python",
   "pygments_lexer": "ipython3",
   "version": "3.7.17"
  }
 },
 "nbformat": 4,
 "nbformat_minor": 5
}
